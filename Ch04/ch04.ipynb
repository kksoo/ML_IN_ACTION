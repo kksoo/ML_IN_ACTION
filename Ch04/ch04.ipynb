{
 "cells": [
  {
   "cell_type": "code",
   "execution_count": null,
   "metadata": {
    "collapsed": true
   },
   "outputs": [],
   "source": [
    "import os\n",
    "os.chdir('/Users/alfredkim/study/mlinaction/Ch04')"
   ]
  },
  {
   "cell_type": "code",
   "execution_count": 2,
   "metadata": {},
   "outputs": [],
   "source": [
    "import bayes\n",
    "from numpy import *\n"
   ]
  },
  {
   "cell_type": "code",
   "execution_count": 47,
   "metadata": {
    "collapsed": false
   },
   "outputs": [
    {
     "data": {
      "text/plain": [
       "<module 'bayes' from 'bayes.py'>"
      ]
     },
     "execution_count": 47,
     "metadata": {},
     "output_type": "execute_result"
    }
   ],
   "source": [
    "reload(bayes)"
   ]
  },
  {
   "cell_type": "markdown",
   "metadata": {},
   "source": [
    "# 문서분류 하기"
   ]
  },
  {
   "cell_type": "code",
   "execution_count": 26,
   "metadata": {
    "collapsed": true
   },
   "outputs": [
    {
     "name": "stdout",
     "output_type": "stream",
     "text": [
      "[['my', 'dog', 'has', 'flea', 'problems', 'help', 'please'], ['maybe', 'not', 'take', 'him', 'to', 'dog', 'park', 'stupid'], ['my', 'dalmation', 'is', 'so', 'cute', 'I', 'love', 'him'], ['stop', 'posting', 'stupid', 'worthless', 'garbage'], ['mr', 'licks', 'ate', 'my', 'steak', 'how', 'to', 'stop', 'him'], ['quit', 'buying', 'worthless', 'dog', 'food', 'stupid']]\n[0, 1, 0, 1, 0, 1]\n"
     ]
    }
   ],
   "source": [
    "listOPosts, listClasses = bayes.loadDataSet()\n",
    "print listOPosts\n",
    "print listClasses"
   ]
  },
  {
   "cell_type": "code",
   "execution_count": 27,
   "metadata": {
    "collapsed": true
   },
   "outputs": [
    {
     "name": "stdout",
     "output_type": "stream",
     "text": [
      "['cute', 'love', 'help', 'garbage', 'quit', 'I', 'problems', 'is', 'park', 'stop', 'flea', 'dalmation', 'licks', 'food', 'not', 'him', 'buying', 'posting', 'has', 'worthless', 'ate', 'to', 'maybe', 'please', 'dog', 'how', 'stupid', 'so', 'take', 'mr', 'steak', 'my']\n32\n"
     ]
    }
   ],
   "source": [
    "\n",
    "myVocaList = bayes.createVocabList(listOPosts)\n",
    "print myVocaList\n",
    "print len(myVocaList)"
   ]
  },
  {
   "cell_type": "code",
   "execution_count": 28,
   "metadata": {
    "collapsed": false
   },
   "outputs": [
    {
     "name": "stdout",
     "output_type": "stream",
     "text": [
      "[[0, 0, 1, 0, 0, 0, 1, 0, 0, 0, 1, 0, 0, 0, 0, 0, 0, 0, 1, 0, 0, 0, 0, 1, 1, 0, 0, 0, 0, 0, 0, 1], [0, 0, 0, 0, 0, 0, 0, 0, 1, 0, 0, 0, 0, 0, 1, 1, 0, 0, 0, 0, 0, 1, 1, 0, 1, 0, 1, 0, 1, 0, 0, 0], [1, 1, 0, 0, 0, 1, 0, 1, 0, 0, 0, 1, 0, 0, 0, 1, 0, 0, 0, 0, 0, 0, 0, 0, 0, 0, 0, 1, 0, 0, 0, 1], [0, 0, 0, 1, 0, 0, 0, 0, 0, 1, 0, 0, 0, 0, 0, 0, 0, 1, 0, 1, 0, 0, 0, 0, 0, 0, 1, 0, 0, 0, 0, 0], [0, 0, 0, 0, 0, 0, 0, 0, 0, 1, 0, 0, 1, 0, 0, 1, 0, 0, 0, 0, 1, 1, 0, 0, 0, 1, 0, 0, 0, 1, 1, 1], [0, 0, 0, 0, 1, 0, 0, 0, 0, 0, 0, 0, 0, 1, 0, 0, 1, 0, 0, 1, 0, 0, 0, 0, 1, 0, 1, 0, 0, 0, 0, 0]]\n"
     ]
    }
   ],
   "source": [
    "trainMat = []\n",
    "for postInDoc in listOPosts:\n",
    "        trainMat.append(bayes.setOfWords2Vec(myVocaList, postInDoc))\n",
    "print trainMat     "
   ]
  },
  {
   "cell_type": "code",
   "execution_count": 38,
   "metadata": {},
   "outputs": [
    {
     "name": "stdout",
     "output_type": "stream",
     "text": [
      "e**p0V\n( my , 0.15384615384615388 ) ( him , 0.11538461538461542 ) ( cute , 0.07692307692307693 ) ( love , 0.07692307692307693 ) ( help , 0.07692307692307693 ) ( I , 0.07692307692307693 ) ( problems , 0.07692307692307693 ) ( is , 0.07692307692307693 ) ( stop , 0.07692307692307693 ) ( flea , 0.07692307692307693 ) ( dalmation , 0.07692307692307693 ) ( licks , 0.07692307692307693 ) ( has , 0.07692307692307693 ) ( ate , 0.07692307692307693 ) ( to , 0.07692307692307693 ) ( please , 0.07692307692307693 ) ( dog , 0.07692307692307693 ) ( how , 0.07692307692307693 ) ( so , 0.07692307692307693 ) ( mr , 0.07692307692307693 ) ( steak , 0.07692307692307693 ) ( garbage , 0.038461538461538464 ) ( quit , 0.038461538461538464 ) ( park , 0.038461538461538464 ) ( food , 0.038461538461538464 ) ( not , 0.038461538461538464 ) ( buying , 0.038461538461538464 ) ( posting , 0.038461538461538464 ) ( worthless , 0.038461538461538464 ) ( maybe , 0.038461538461538464 ) ( stupid , 0.038461538461538464 ) ( take , 0.038461538461538464 ) 2.153846153846154\np0V\n( my , -1.8718021769015913 ) ( him , -2.159484249353372 ) ( cute , -2.5649493574615367 ) ( love , -2.5649493574615367 ) ( help , -2.5649493574615367 ) ( I , -2.5649493574615367 ) ( problems , -2.5649493574615367 ) ( is , -2.5649493574615367 ) ( stop , -2.5649493574615367 ) ( flea , -2.5649493574615367 ) ( dalmation , -2.5649493574615367 ) ( licks , -2.5649493574615367 ) ( has , -2.5649493574615367 ) ( ate , -2.5649493574615367 ) ( to , -2.5649493574615367 ) ( please , -2.5649493574615367 ) ( dog , -2.5649493574615367 ) ( how , -2.5649493574615367 ) ( so , -2.5649493574615367 ) ( mr , -2.5649493574615367 ) ( steak , -2.5649493574615367 ) ( garbage , -3.258096538021482 ) ( quit , -3.258096538021482 ) ( park , -3.258096538021482 ) ( food , -3.258096538021482 ) ( not , -3.258096538021482 ) ( buying , -3.258096538021482 ) ( posting , -3.258096538021482 ) ( worthless , -3.258096538021482 ) ( maybe , -3.258096538021482 ) ( stupid , -3.258096538021482 ) ( take , -3.258096538021482 )\ne**p1V\n( stupid , 0.1904761904761905 ) ( worthless , 0.14285714285714285 ) ( dog , 0.14285714285714285 ) ( garbage , 0.09523809523809526 ) ( quit , 0.09523809523809526 ) ( park , 0.09523809523809526 ) ( stop , 0.09523809523809526 ) ( food , 0.09523809523809526 ) ( not , 0.09523809523809526 ) ( him , 0.09523809523809526 ) ( buying , 0.09523809523809526 ) ( posting , 0.09523809523809526 ) ( to , 0.09523809523809526 ) ( maybe , 0.09523809523809526 ) ( take , 0.09523809523809526 ) ( cute , 0.04761904761904762 ) ( love , 0.04761904761904762 ) ( help , 0.04761904761904762 ) ( I , 0.04761904761904762 ) ( problems , 0.04761904761904762 ) ( is , 0.04761904761904762 ) ( flea , 0.04761904761904762 ) ( dalmation , 0.04761904761904762 ) ( licks , 0.04761904761904762 ) ( has , 0.04761904761904762 ) ( ate , 0.04761904761904762 ) ( please , 0.04761904761904762 ) ( how , 0.04761904761904762 ) ( so , 0.04761904761904762 ) ( mr , 0.04761904761904762 ) ( steak , 0.04761904761904762 ) ( my , 0.04761904761904762 )\np1V\n( stupid , -1.6582280766035324 ) ( worthless , -1.9459101490553135 ) ( dog , -1.9459101490553135 ) ( garbage , -2.3513752571634776 ) ( quit , -2.3513752571634776 ) ( park , -2.3513752571634776 ) ( stop , -2.3513752571634776 ) ( food , -2.3513752571634776 ) ( not , -2.3513752571634776 ) ( him , -2.3513752571634776 ) ( buying , -2.3513752571634776 ) ( posting , -2.3513752571634776 ) ( to , -2.3513752571634776 ) ( maybe , -2.3513752571634776 ) ( take , -2.3513752571634776 ) ( cute , -3.044522437723423 ) ( love , -3.044522437723423 ) ( help , -3.044522437723423 ) ( I , -3.044522437723423 ) ( problems , -3.044522437723423 ) ( is , -3.044522437723423 ) ( flea , -3.044522437723423 ) ( dalmation , -3.044522437723423 ) ( licks , -3.044522437723423 ) ( has , -3.044522437723423 ) ( ate , -3.044522437723423 ) ( please , -3.044522437723423 ) ( how , -3.044522437723423 ) ( so , -3.044522437723423 ) ( mr , -3.044522437723423 ) ( steak , -3.044522437723423 ) ( my , -3.044522437723423 )\n0.5\n"
     ]
    }
   ],
   "source": [
    "p0V, p1V, pAb = bayes.trainNB0(trainMat, listClasses)\n",
    "\n",
    "print \"e**p0V\"\n",
    "for w, p in sorted(zip(myVocaList, e**p0V), key=lambda x: -x[1]):\n",
    "    print \"(\", w, \",\", p, \")\",\n",
    "print sum(e**p0V)\n",
    "\n",
    "print \"p0V\"\n",
    "for w, p in sorted(zip(myVocaList, p0V), key=lambda x: -x[1]):\n",
    "    print \"(\", w, \",\", p, \")\",\n",
    "print\n",
    "\n",
    "print \"e**p1V\"\n",
    "for w, p in sorted(zip(myVocaList, e**p1V), key=lambda x: -x[1]):\n",
    "    print \"(\", w, \",\", p, \")\",  \n",
    "print\n",
    "\n",
    "print \"p1V\"\n",
    "for w, p in sorted(zip(myVocaList, p1V), key=lambda x: -x[1]):\n",
    "    print \"(\", w, \",\", p, \")\",\n",
    "print\n",
    "\n",
    "print pAb"
   ]
  },
  {
   "cell_type": "code",
   "execution_count": 48,
   "metadata": {
    "collapsed": false
   },
   "outputs": [
    {
     "name": "stdout",
     "output_type": "stream",
     "text": [
      "['love', 'my', 'dalmation', 'stupid'] classified as:  0\n['stupid', 'garbage'] classified as:  1\n"
     ]
    }
   ],
   "source": [
    "bayes.testingNB()"
   ]
  },
  {
   "cell_type": "markdown",
   "metadata": {},
   "source": [
    "# 스팸 이메일 분류하기"
   ]
  },
  {
   "cell_type": "code",
   "execution_count": 49,
   "metadata": {},
   "outputs": [
    {
     "name": "stdout",
     "output_type": "stream",
     "text": [
      "classification error ['yeah', 'ready', 'may', 'not', 'here', 'because', 'jar', 'jar', 'has', 'plane', 'tickets', 'germany', 'for']\nthe error rate is:  0.1\n"
     ]
    }
   ],
   "source": [
    "bayes.spamTest()"
   ]
  },
  {
   "cell_type": "code",
   "execution_count": 17,
   "metadata": {},
   "outputs": [],
   "source": []
  },
  {
   "cell_type": "code",
   "execution_count": null,
   "metadata": {},
   "outputs": [],
   "source": []
  }
 ],
 "metadata": {
  "kernelspec": {
   "display_name": "Python 2",
   "language": "python",
   "name": "python2"
  },
  "language_info": {
   "codemirror_mode": {
    "name": "ipython",
    "version": 2
   },
   "file_extension": ".py",
   "mimetype": "text/x-python",
   "name": "python",
   "nbconvert_exporter": "python",
   "pygments_lexer": "ipython2",
   "version": "2.7.6"
  }
 },
 "nbformat": 4,
 "nbformat_minor": 0
}
